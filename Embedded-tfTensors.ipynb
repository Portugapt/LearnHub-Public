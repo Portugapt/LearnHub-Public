{
 "cells": [
  {
   "cell_type": "code",
   "execution_count": null,
   "id": "66e60448-65c1-4ebb-9eff-47f44e363d54",
   "metadata": {},
   "outputs": [],
   "source": [
    "import tensorflow as tf\n",
    "import numpy as np"
   ]
  },
  {
   "cell_type": "code",
   "execution_count": null,
   "id": "72ea4e6e-71c4-4ce9-9a6d-7a4cdaeb3e88",
   "metadata": {},
   "outputs": [],
   "source": [
    "# This will be an int32 tensor by default; see \"dtypes\" below.\n",
    "rank_0_tensor = tf.constant(4)\n",
    "print(rank_0_tensor)\n"
   ]
  }
 ],
 "metadata": {
  "kernelspec": {
   "display_name": "Python 3 (ipykernel)",
   "language": "python",
   "name": "python3"
  },
  "language_info": {
   "codemirror_mode": {
    "name": "ipython",
    "version": 3
   },
   "file_extension": ".py",
   "mimetype": "text/x-python",
   "name": "python",
   "nbconvert_exporter": "python",
   "pygments_lexer": "ipython3",
   "version": "3.8.1"
  }
 },
 "nbformat": 4,
 "nbformat_minor": 5
}
